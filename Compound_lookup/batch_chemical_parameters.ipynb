{
  "nbformat": 4,
  "nbformat_minor": 0,
  "metadata": {
    "colab": {
      "provenance": [],
      "collapsed_sections": [],
      "authorship_tag": "ABX9TyN6Y3XnMi3qDoJHNxXhFrWh",
      "include_colab_link": true
    },
    "kernelspec": {
      "name": "python3",
      "display_name": "Python 3"
    },
    "language_info": {
      "name": "python"
    }
  },
  "cells": [
    {
      "cell_type": "markdown",
      "metadata": {
        "id": "view-in-github",
        "colab_type": "text"
      },
      "source": [
        "<a href=\"https://colab.research.google.com/github/supersciencegrl/chemistry-scripts/blob/main/batch_chemical_parameters.ipynb\" target=\"_parent\"><img src=\"https://colab.research.google.com/assets/colab-badge.svg\" alt=\"Open In Colab\"/></a>"
      ]
    },
    {
      "cell_type": "markdown",
      "source": [
        "# Batch chemical parameters\n",
        "\n",
        "Input a list of chemical names (or CAS numbers!), and receive molecular weights, molecular formulae and empirical formulae, and CAS numbers in return. "
      ],
      "metadata": {
        "id": "6VHaR9cJRJf1"
      }
    },
    {
      "cell_type": "markdown",
      "source": [
        "Click 'play' on the next two code blocks to import modules and functions for your script. You only need to do this once at the start of every session! "
      ],
      "metadata": {
        "id": "7K2whO4qTAt5"
      }
    },
    {
      "cell_type": "code",
      "source": [
        "# Install packages. You only need to do this once per device (probably)\n",
        "!pip install molmass\n",
        "!pip install pubchempy"
      ],
      "metadata": {
        "colab": {
          "base_uri": "https://localhost:8080/"
        },
        "id": "eY4_0VPlfbuC",
        "outputId": "02205229-3851-4076-903e-ee4faf6ffe0c"
      },
      "execution_count": 11,
      "outputs": [
        {
          "output_type": "stream",
          "name": "stdout",
          "text": [
            "Looking in indexes: https://pypi.org/simple, https://us-python.pkg.dev/colab-wheels/public/simple/\n",
            "Requirement already satisfied: molmass in /usr/local/lib/python3.7/dist-packages (2021.6.18)\n",
            "Looking in indexes: https://pypi.org/simple, https://us-python.pkg.dev/colab-wheels/public/simple/\n",
            "Requirement already satisfied: pubchempy in /usr/local/lib/python3.7/dist-packages (1.0.4)\n"
          ]
        }
      ]
    },
    {
      "cell_type": "code",
      "execution_count": 12,
      "metadata": {
        "id": "5elCYxtnRIUy"
      },
      "outputs": [],
      "source": [
        "# Import modules and functions. You only need to do this once, at the start of every session\n",
        "import io\n",
        "import re\n",
        "\n",
        "from google.colab import files\n",
        "import molmass\n",
        "import pandas as pd\n",
        "import pubchempy as pcp\n",
        "import requests\n",
        "\n",
        "def iscas(name):\n",
        "    ''' Function to determine whether a string is a CAS number '''\n",
        "    \n",
        "    x = re.match('\\d{2,7}-\\d\\d-\\d$', name.strip())\n",
        "    if x:\n",
        "        z = x[0]\n",
        "        digitsBackwards = z.replace('-', '')[::-1]\n",
        "        checksum = 0\n",
        "        for i, digit in enumerate(digitsBackwards):\n",
        "            checksum += (i * int(digit))\n",
        "        if checksum%10 == int(z[-1]):\n",
        "            return True\n",
        "        else:\n",
        "            return False\n",
        "\n",
        "    else: # No regex match\n",
        "        return False\n",
        "\n",
        "def lookupCompoundPubChem(name, identifier):\n",
        "    ''' returns pubchempy Compound or None from identifier '''\n",
        "    \n",
        "    compounds = pcp.get_compounds(name, identifier)\n",
        "    try:\n",
        "        Compound = compounds[0]\n",
        "        return Compound\n",
        "\n",
        "    except IndexError:\n",
        "        return None\n",
        "    except urllib.error.URLError as error:\n",
        "        print(error)\n",
        "        return None\n",
        "\n",
        "def searchFromPubChem(Compound):\n",
        "    ''' Finds IUPAC name, MW, MW, exact mass, SMILES, InChI, InChIKey from PubChem Compound '''\n",
        "    \n",
        "    cpddict = {}\n",
        "    if Compound:\n",
        "        if Compound.synonyms:\n",
        "            cpddict['cpdname'] = Compound.synonyms[0]\n",
        "        cpddict['iupac'] = Compound.iupac_name\n",
        "        try:\n",
        "            cpddict['mw'] = float(Compound.molecular_weight)\n",
        "        except ValueError:\n",
        "            cpddict['mw'] = Compound.molecular_weight\n",
        "        cpddict['mf'] = Compound.molecular_formula\n",
        "        cpddict['exactMass'] = Compound.exact_mass\n",
        "        cpddict['smiles'] = Compound.isomeric_smiles\n",
        "        cpddict['inchi'] = Compound.inchi\n",
        "        cpddict['inchikey'] = Compound.inchikey\n",
        "\n",
        "        cpddict['cas'] = CompoundtoCAS(Compound)\n",
        "        \n",
        "    else:\n",
        "        return None\n",
        "\n",
        "    return cpddict\n",
        "\n",
        "def CompoundtoCAS(Compound):\n",
        "    ''' Returns CAS # from PubChem Compound '''\n",
        "    \n",
        "    if Compound:\n",
        "        casfound = False\n",
        "        for s in Compound.synonyms:\n",
        "            casfound = iscas(s)\n",
        "            if casfound:\n",
        "                return s\n",
        "        if not casfound:\n",
        "            return None\n",
        "\n",
        "    else:\n",
        "      return None\n",
        "\n",
        "def calcEmpiricalFormula(Compound):\n",
        "    ''' Returns empirical formula from a Compound '''\n",
        "\n",
        "    if Compound:\n",
        "        mf = Compound.molecular_formula\n",
        "        if mf:\n",
        "            formula = molmass.Formula(mf)\n",
        "            return formula.empirical\n",
        "        else:\n",
        "            return None\n",
        "\n",
        "    else:\n",
        "      return None\n",
        "\n",
        "# For debugging\n",
        "test = 'paracetamol'\n",
        "test_compound_list = ['paracetamol', 'methylene blue', 'acetic acid', 'iron(II) chloride', 'RuPhos', '64-19-7', 'notACompoundTest']"
      ]
    },
    {
      "cell_type": "markdown",
      "source": [
        "## Upload your csv below when the 'Choose Files' button appears!"
      ],
      "metadata": {
        "id": "X9I2Qvrudn2j"
      }
    },
    {
      "cell_type": "code",
      "source": [
        "# Input your list of compounds as a csv\n",
        "!rm *.csv # Delete all existing csv files\n",
        "uploaded = files.upload()\n",
        "filename = next(iter(uploaded))\n",
        "input_df = pd.read_csv(io.BytesIO(uploaded[filename]), header=None)\n",
        "\n",
        "compound_list = input_df[input_df.columns[0]]\n",
        "\n",
        "num_compounds = len(input_df.index)\n",
        "suffix = 's' if num_compounds > 1 else ''\n",
        "print(f'\\n{num_compounds} compound{suffix} imported!')"
      ],
      "metadata": {
        "id": "17gtJynnUPPf",
        "colab": {
          "base_uri": "https://localhost:8080/",
          "height": 107
        },
        "outputId": "50949046-5a0c-4686-b003-01ffb17c222a"
      },
      "execution_count": 17,
      "outputs": [
        {
          "output_type": "display_data",
          "data": {
            "text/plain": [
              "<IPython.core.display.HTML object>"
            ],
            "text/html": [
              "\n",
              "     <input type=\"file\" id=\"files-4ad0d954-1113-4007-9d63-573ab5fd8ba7\" name=\"files[]\" multiple disabled\n",
              "        style=\"border:none\" />\n",
              "     <output id=\"result-4ad0d954-1113-4007-9d63-573ab5fd8ba7\">\n",
              "      Upload widget is only available when the cell has been executed in the\n",
              "      current browser session. Please rerun this cell to enable.\n",
              "      </output>\n",
              "      <script>// Copyright 2017 Google LLC\n",
              "//\n",
              "// Licensed under the Apache License, Version 2.0 (the \"License\");\n",
              "// you may not use this file except in compliance with the License.\n",
              "// You may obtain a copy of the License at\n",
              "//\n",
              "//      http://www.apache.org/licenses/LICENSE-2.0\n",
              "//\n",
              "// Unless required by applicable law or agreed to in writing, software\n",
              "// distributed under the License is distributed on an \"AS IS\" BASIS,\n",
              "// WITHOUT WARRANTIES OR CONDITIONS OF ANY KIND, either express or implied.\n",
              "// See the License for the specific language governing permissions and\n",
              "// limitations under the License.\n",
              "\n",
              "/**\n",
              " * @fileoverview Helpers for google.colab Python module.\n",
              " */\n",
              "(function(scope) {\n",
              "function span(text, styleAttributes = {}) {\n",
              "  const element = document.createElement('span');\n",
              "  element.textContent = text;\n",
              "  for (const key of Object.keys(styleAttributes)) {\n",
              "    element.style[key] = styleAttributes[key];\n",
              "  }\n",
              "  return element;\n",
              "}\n",
              "\n",
              "// Max number of bytes which will be uploaded at a time.\n",
              "const MAX_PAYLOAD_SIZE = 100 * 1024;\n",
              "\n",
              "function _uploadFiles(inputId, outputId) {\n",
              "  const steps = uploadFilesStep(inputId, outputId);\n",
              "  const outputElement = document.getElementById(outputId);\n",
              "  // Cache steps on the outputElement to make it available for the next call\n",
              "  // to uploadFilesContinue from Python.\n",
              "  outputElement.steps = steps;\n",
              "\n",
              "  return _uploadFilesContinue(outputId);\n",
              "}\n",
              "\n",
              "// This is roughly an async generator (not supported in the browser yet),\n",
              "// where there are multiple asynchronous steps and the Python side is going\n",
              "// to poll for completion of each step.\n",
              "// This uses a Promise to block the python side on completion of each step,\n",
              "// then passes the result of the previous step as the input to the next step.\n",
              "function _uploadFilesContinue(outputId) {\n",
              "  const outputElement = document.getElementById(outputId);\n",
              "  const steps = outputElement.steps;\n",
              "\n",
              "  const next = steps.next(outputElement.lastPromiseValue);\n",
              "  return Promise.resolve(next.value.promise).then((value) => {\n",
              "    // Cache the last promise value to make it available to the next\n",
              "    // step of the generator.\n",
              "    outputElement.lastPromiseValue = value;\n",
              "    return next.value.response;\n",
              "  });\n",
              "}\n",
              "\n",
              "/**\n",
              " * Generator function which is called between each async step of the upload\n",
              " * process.\n",
              " * @param {string} inputId Element ID of the input file picker element.\n",
              " * @param {string} outputId Element ID of the output display.\n",
              " * @return {!Iterable<!Object>} Iterable of next steps.\n",
              " */\n",
              "function* uploadFilesStep(inputId, outputId) {\n",
              "  const inputElement = document.getElementById(inputId);\n",
              "  inputElement.disabled = false;\n",
              "\n",
              "  const outputElement = document.getElementById(outputId);\n",
              "  outputElement.innerHTML = '';\n",
              "\n",
              "  const pickedPromise = new Promise((resolve) => {\n",
              "    inputElement.addEventListener('change', (e) => {\n",
              "      resolve(e.target.files);\n",
              "    });\n",
              "  });\n",
              "\n",
              "  const cancel = document.createElement('button');\n",
              "  inputElement.parentElement.appendChild(cancel);\n",
              "  cancel.textContent = 'Cancel upload';\n",
              "  const cancelPromise = new Promise((resolve) => {\n",
              "    cancel.onclick = () => {\n",
              "      resolve(null);\n",
              "    };\n",
              "  });\n",
              "\n",
              "  // Wait for the user to pick the files.\n",
              "  const files = yield {\n",
              "    promise: Promise.race([pickedPromise, cancelPromise]),\n",
              "    response: {\n",
              "      action: 'starting',\n",
              "    }\n",
              "  };\n",
              "\n",
              "  cancel.remove();\n",
              "\n",
              "  // Disable the input element since further picks are not allowed.\n",
              "  inputElement.disabled = true;\n",
              "\n",
              "  if (!files) {\n",
              "    return {\n",
              "      response: {\n",
              "        action: 'complete',\n",
              "      }\n",
              "    };\n",
              "  }\n",
              "\n",
              "  for (const file of files) {\n",
              "    const li = document.createElement('li');\n",
              "    li.append(span(file.name, {fontWeight: 'bold'}));\n",
              "    li.append(span(\n",
              "        `(${file.type || 'n/a'}) - ${file.size} bytes, ` +\n",
              "        `last modified: ${\n",
              "            file.lastModifiedDate ? file.lastModifiedDate.toLocaleDateString() :\n",
              "                                    'n/a'} - `));\n",
              "    const percent = span('0% done');\n",
              "    li.appendChild(percent);\n",
              "\n",
              "    outputElement.appendChild(li);\n",
              "\n",
              "    const fileDataPromise = new Promise((resolve) => {\n",
              "      const reader = new FileReader();\n",
              "      reader.onload = (e) => {\n",
              "        resolve(e.target.result);\n",
              "      };\n",
              "      reader.readAsArrayBuffer(file);\n",
              "    });\n",
              "    // Wait for the data to be ready.\n",
              "    let fileData = yield {\n",
              "      promise: fileDataPromise,\n",
              "      response: {\n",
              "        action: 'continue',\n",
              "      }\n",
              "    };\n",
              "\n",
              "    // Use a chunked sending to avoid message size limits. See b/62115660.\n",
              "    let position = 0;\n",
              "    do {\n",
              "      const length = Math.min(fileData.byteLength - position, MAX_PAYLOAD_SIZE);\n",
              "      const chunk = new Uint8Array(fileData, position, length);\n",
              "      position += length;\n",
              "\n",
              "      const base64 = btoa(String.fromCharCode.apply(null, chunk));\n",
              "      yield {\n",
              "        response: {\n",
              "          action: 'append',\n",
              "          file: file.name,\n",
              "          data: base64,\n",
              "        },\n",
              "      };\n",
              "\n",
              "      let percentDone = fileData.byteLength === 0 ?\n",
              "          100 :\n",
              "          Math.round((position / fileData.byteLength) * 100);\n",
              "      percent.textContent = `${percentDone}% done`;\n",
              "\n",
              "    } while (position < fileData.byteLength);\n",
              "  }\n",
              "\n",
              "  // All done.\n",
              "  yield {\n",
              "    response: {\n",
              "      action: 'complete',\n",
              "    }\n",
              "  };\n",
              "}\n",
              "\n",
              "scope.google = scope.google || {};\n",
              "scope.google.colab = scope.google.colab || {};\n",
              "scope.google.colab._files = {\n",
              "  _uploadFiles,\n",
              "  _uploadFilesContinue,\n",
              "};\n",
              "})(self);\n",
              "</script> "
            ]
          },
          "metadata": {}
        },
        {
          "output_type": "stream",
          "name": "stdout",
          "text": [
            "Saving input.csv to input.csv\n",
            "\n",
            "5 compounds imported!\n"
          ]
        }
      ]
    },
    {
      "cell_type": "markdown",
      "source": [
        "### Now generate your result table:"
      ],
      "metadata": {
        "id": "i6Pd3rQkjaTH"
      }
    },
    {
      "cell_type": "code",
      "source": [
        "# Set up result table structure\n",
        "columns = ['name', 'CAS', 'MW', 'MF', 'empirical formula']\n",
        "df = pd.DataFrame(columns=columns)\n",
        "\n",
        "# Featurize compound list\n",
        "for cpd in compound_list:\n",
        "    # Find compound in PubChem\n",
        "    Compound = lookupCompoundPubChem(cpd, 'name') # Suitable for chemical name or CAS lookup\n",
        "    cas = CompoundtoCAS(Compound)\n",
        "    mw = Compound.molecular_weight if Compound else None\n",
        "    mf = Compound.molecular_formula if Compound else None\n",
        "\n",
        "    parameters = {'name': cpd,\n",
        "                  'CAS': cas,\n",
        "                  'MW': mw,\n",
        "                  'MF': mf,\n",
        "                  'empirical formula': calcEmpiricalFormula(Compound)} # Must match columns above\n",
        "    df.loc[len(df)] = parameters # Append to DataFrame"
      ],
      "metadata": {
        "id": "k5JYFLZwS7eL"
      },
      "execution_count": 21,
      "outputs": []
    },
    {
      "cell_type": "markdown",
      "source": [
        "### View your results with the next cell\n",
        "(does not update automatically)"
      ],
      "metadata": {
        "id": "UROS1r6-e5aK"
      }
    },
    {
      "cell_type": "code",
      "source": [
        "print(df)"
      ],
      "metadata": {
        "colab": {
          "base_uri": "https://localhost:8080/"
        },
        "id": "AWsNUHpFYRvQ",
        "outputId": "171ffe05-d8bf-49dc-da4a-1e402905a1ba"
      },
      "execution_count": 22,
      "outputs": [
        {
          "output_type": "stream",
          "name": "stdout",
          "text": [
            "               name          CAS      MW           MF empirical formula\n",
            "0       paracetamol     103-90-2  151.16      C8H9NO2           C8H9NO2\n",
            "1    methylene blue      61-73-4   319.9  C16H18ClN3S       C16H18ClN3S\n",
            "2  notACompoundTest         None    None         None              None\n",
            "3            RuPhos  787618-22-8   466.6    C30H43O2P         C30H43O2P\n",
            "4       acetic acid      64-19-7   60.05       C2H4O2              CH2O\n"
          ]
        }
      ]
    },
    {
      "cell_type": "markdown",
      "source": [
        "### And download your results as a csv with the next cell"
      ],
      "metadata": {
        "id": "px-LnywZe3Zk"
      }
    },
    {
      "cell_type": "code",
      "source": [
        "df.to_csv('output.csv', encoding = 'utf-8-sig')\n",
        "files.download('output.csv')"
      ],
      "metadata": {
        "colab": {
          "base_uri": "https://localhost:8080/",
          "height": 17
        },
        "id": "ImZCXM5gYb8e",
        "outputId": "43cc34dd-f03a-4bf7-aded-2ba1202c52d5"
      },
      "execution_count": 16,
      "outputs": [
        {
          "output_type": "display_data",
          "data": {
            "text/plain": [
              "<IPython.core.display.Javascript object>"
            ],
            "application/javascript": [
              "\n",
              "    async function download(id, filename, size) {\n",
              "      if (!google.colab.kernel.accessAllowed) {\n",
              "        return;\n",
              "      }\n",
              "      const div = document.createElement('div');\n",
              "      const label = document.createElement('label');\n",
              "      label.textContent = `Downloading \"${filename}\": `;\n",
              "      div.appendChild(label);\n",
              "      const progress = document.createElement('progress');\n",
              "      progress.max = size;\n",
              "      div.appendChild(progress);\n",
              "      document.body.appendChild(div);\n",
              "\n",
              "      const buffers = [];\n",
              "      let downloaded = 0;\n",
              "\n",
              "      const channel = await google.colab.kernel.comms.open(id);\n",
              "      // Send a message to notify the kernel that we're ready.\n",
              "      channel.send({})\n",
              "\n",
              "      for await (const message of channel.messages) {\n",
              "        // Send a message to notify the kernel that we're ready.\n",
              "        channel.send({})\n",
              "        if (message.buffers) {\n",
              "          for (const buffer of message.buffers) {\n",
              "            buffers.push(buffer);\n",
              "            downloaded += buffer.byteLength;\n",
              "            progress.value = downloaded;\n",
              "          }\n",
              "        }\n",
              "      }\n",
              "      const blob = new Blob(buffers, {type: 'application/binary'});\n",
              "      const a = document.createElement('a');\n",
              "      a.href = window.URL.createObjectURL(blob);\n",
              "      a.download = filename;\n",
              "      div.appendChild(a);\n",
              "      a.click();\n",
              "      div.remove();\n",
              "    }\n",
              "  "
            ]
          },
          "metadata": {}
        },
        {
          "output_type": "display_data",
          "data": {
            "text/plain": [
              "<IPython.core.display.Javascript object>"
            ],
            "application/javascript": [
              "download(\"download_cd85d0ea-d097-4ca5-aeb3-ace793427852\", \"output.csv\", 202)"
            ]
          },
          "metadata": {}
        }
      ]
    },
    {
      "cell_type": "markdown",
      "source": [
        "This script was made for [@Imekulo](https://twitter.com/Imekulo) on Twitter. \n",
        "\n",
        "Please [contact me](https://supersciencegrl.co.uk) or comment with improvements. Feel absolutely free to reuse, preferably with credit so others can find the original link with any updates. It's relatively easy to add new columns: I normally use modifications of [@khoivan88](https://github.com/khoivan88)'s script `pka_lookup_pubchem.py` [here](https://github.com/khoivan88/pka_lookup) to do so. "
      ],
      "metadata": {
        "id": "hS5ZpgwRxArL"
      }
    }
  ]
}